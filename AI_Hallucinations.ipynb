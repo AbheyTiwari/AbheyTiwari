{
  "cells": [
    {
      "cell_type": "markdown",
      "metadata": {
        "id": "view-in-github",
        "colab_type": "text"
      },
      "source": [
        "<a href=\"https://colab.research.google.com/github/AbheyTiwari/AbheyTiwari/blob/main/AI_Hallucinations.ipynb\" target=\"_parent\"><img src=\"https://colab.research.google.com/assets/colab-badge.svg\" alt=\"Open In Colab\"/></a>"
      ]
    },
    {
      "cell_type": "code",
      "execution_count": null,
      "metadata": {
        "colab": {
          "base_uri": "https://localhost:8080/"
        },
        "collapsed": true,
        "id": "kLqUMGAsXYJN",
        "outputId": "fbe27aee-4573-4ca7-c445-74d046035d7e"
      },
      "outputs": [
        {
          "output_type": "stream",
          "name": "stdout",
          "text": [
            "Requirement already satisfied: scikit-learn in /usr/local/lib/python3.11/dist-packages (1.6.1)\n",
            "Requirement already satisfied: pandas in /usr/local/lib/python3.11/dist-packages (2.2.2)\n",
            "Requirement already satisfied: numpy in /usr/local/lib/python3.11/dist-packages (2.0.2)\n",
            "Requirement already satisfied: scipy>=1.6.0 in /usr/local/lib/python3.11/dist-packages (from scikit-learn) (1.14.1)\n",
            "Requirement already satisfied: joblib>=1.2.0 in /usr/local/lib/python3.11/dist-packages (from scikit-learn) (1.4.2)\n",
            "Requirement already satisfied: threadpoolctl>=3.1.0 in /usr/local/lib/python3.11/dist-packages (from scikit-learn) (3.6.0)\n",
            "Requirement already satisfied: python-dateutil>=2.8.2 in /usr/local/lib/python3.11/dist-packages (from pandas) (2.8.2)\n",
            "Requirement already satisfied: pytz>=2020.1 in /usr/local/lib/python3.11/dist-packages (from pandas) (2025.1)\n",
            "Requirement already satisfied: tzdata>=2022.7 in /usr/local/lib/python3.11/dist-packages (from pandas) (2025.1)\n",
            "Requirement already satisfied: six>=1.5 in /usr/local/lib/python3.11/dist-packages (from python-dateutil>=2.8.2->pandas) (1.17.0)\n"
          ]
        }
      ],
      "source": [
        "!pip install scikit-learn pandas numpy"
      ]
    },
    {
      "cell_type": "code",
      "execution_count": null,
      "metadata": {
        "colab": {
          "base_uri": "https://localhost:8080/"
        },
        "id": "lNc1zZvTXiv_",
        "outputId": "da2a9682-6058-47bf-f2a6-de9d3fb5346b"
      },
      "outputs": [
        {
          "output_type": "stream",
          "name": "stdout",
          "text": [
            "Model Accuracy: 100.00%\n",
            "\n",
            "Enter values for the new question:\n",
            "Training Data Quality (0=Perfect, 1=Terrible): 0.2\n",
            "Model Complexity (0=Simple, 1=Complex): 03.\n",
            "Input Ambiguity (0=Clear, 1=Confusing): 04.\n",
            "Adversarial Attack Strength (0=None, 1=High): 0.5\n",
            "AI Confidence Score (0=Unsure, 1=Fully Confident): 0.1\n",
            "\n",
            "🚨 AI is likely to HALLUCINATE on this question! 🚨\n"
          ]
        },
        {
          "output_type": "stream",
          "name": "stderr",
          "text": [
            "/usr/local/lib/python3.11/dist-packages/sklearn/utils/validation.py:2739: UserWarning: X does not have valid feature names, but LogisticRegression was fitted with feature names\n",
            "  warnings.warn(\n"
          ]
        }
      ],
      "source": [
        "import numpy as np\n",
        "import pandas as pd\n",
        "from sklearn.model_selection import train_test_split\n",
        "from sklearn.linear_model import LogisticRegression\n",
        "from sklearn.metrics import accuracy_score\n",
        "\n",
        "# Step 3: Create Training Data (Manually Entered)\n",
        "# Columns: [D, M, I, A, C] -> Features, H -> Target (0 = No Hallucination, 1 = Hallucination)\n",
        "data = {\n",
        "    \"D\": [0.1, 0.1, 0.5, 0.2, 0.7, 0.3, 0.9, 0.4, 0.2, 0.6],\n",
        "    \"M\": [0.8, 0.7, 0.9, 0.6, 0.9, 0.8, 0.7, 0.6, 0.9, 0.9],\n",
        "    \"I\": [0.1, 0.5, 0.9, 0.7, 0.9, 0.4, 0.8, 0.6, 0.5, 0.9],\n",
        "    \"A\": [0, 0, 0, 0, 0, 0.1, 0.2, 0.3, 0, 0.5],\n",
        "    \"C\": [0.9, 0.7, 0.6, 0.8, 0.5, 0.7, 0.4, 0.6, 0.7, 0.3],\n",
        "    \"H\": [0, 0, 1, 0, 1, 0, 1, 0, 0, 1]  # 1 = Hallucination, 0 = No Hallucination\n",
        "}\n",
        "\n",
        "# Step 4: Convert Data to Pandas DataFrame\n",
        "df = pd.DataFrame(data)\n",
        "\n",
        "# Step 5: Split into Features (X) and Target (y)\n",
        "X = df[[\"D\", \"M\", \"I\", \"A\", \"C\"]]\n",
        "y = df[\"H\"]\n",
        "\n",
        "# Step 6: Train-Test Split\n",
        "X_train, X_test, y_train, y_test = train_test_split(X, y, test_size=0.2, random_state=42)\n",
        "\n",
        "# Step 7: Train Logistic Regression Model\n",
        "model = LogisticRegression()\n",
        "model.fit(X_train, y_train)\n",
        "\n",
        "# Step 8: Test Model Accuracy\n",
        "y_pred = model.predict(X_test)\n",
        "accuracy = accuracy_score(y_test, y_pred)\n",
        "print(f\"Model Accuracy: {accuracy * 100:.2f}%\")\n",
        "\n",
        "# Step 9: User Input - Predict AI Hallucination\n",
        "def predict_hallucination():\n",
        "    print(\"\\nEnter values for the new question:\")\n",
        "    D = float(input(\"Training Data Quality (0=Perfect, 1=Terrible): \"))\n",
        "    M = float(input(\"Model Complexity (0=Simple, 1=Complex): \"))\n",
        "    I = float(input(\"Input Ambiguity (0=Clear, 1=Confusing): \"))\n",
        "    A = float(input(\"Adversarial Attack Strength (0=None, 1=High): \"))\n",
        "    C = float(input(\"AI Confidence Score (0=Unsure, 1=Fully Confident): \"))\n",
        "\n",
        "    # Make prediction\n",
        "    input_features = np.array([[D, M, I, A, C]])\n",
        "    prediction = model.predict(input_features)[0]\n",
        "\n",
        "    # Show result\n",
        "    if prediction == 1:\n",
        "        print(\"\\n🚨 AI is likely to HALLUCINATE on this question! 🚨\")\n",
        "    else:\n",
        "        print(\"\\n✅ AI is likely to give a CORRECT answer.\")\n",
        "\n",
        "# Run Prediction\n",
        "predict_hallucination()"
      ]
    },
    {
      "cell_type": "code",
      "execution_count": null,
      "metadata": {
        "colab": {
          "base_uri": "https://localhost:8080/",
          "height": 52
        },
        "id": "PxLtG2ceY-wn",
        "outputId": "5cd4a910-a200-4455-96a5-1ab0a293e14a"
      },
      "outputs": [
        {
          "output_type": "stream",
          "name": "stdout",
          "text": [
            "Please neter the prompt you want to test: who was ppnavis the 2\n",
            "Error: No valid response from Gemini\n"
          ]
        }
      ],
      "source": [
        "import google.generativeai as genai\n",
        "import re  # Import regex module for extracting numbers\n",
        "\n",
        "# Set up Gemini API\n",
        "genai.configure(api_key=\"your API\")\n",
        "\n",
        "# Initialize weights\n",
        "weights = {\n",
        "    \"D\": 0.2,  # Training data quality\n",
        "    \"M\": 0.2,  # Model complexity\n",
        "    \"I\": 0.2,  # Input ambiguity\n",
        "    \"A\": 0.2,  # Adversarial perturbations\n",
        "    \"C\": -0.2  # Confidence score\n",
        "}\n",
        "\n",
        "# Function to analyze prompt using Gemini 1.5 Pro\n",
        "def analyze_prompt(prompt):\n",
        "    model = genai.GenerativeModel(\"gemini-1.5-flash\")\n",
        "\n",
        "    response = model.generate_content(f\"Analyze this prompt: {prompt}.\\n\"\n",
        "                                      \"Give numerical values between 0 and 1 for:\\n\"\n",
        "                                      \"D: Training data quality\\n\"\n",
        "                                      \"M: Model complexity\\n\"\n",
        "                                      \"I: Input ambiguity\\n\"\n",
        "                                      \"A: Adversarial perturbations\\n\"\n",
        "                                      \"C: AI confidence\")\n",
        "\n",
        "    if not response or not response.text:\n",
        "        return None  # Handle empty response case\n",
        "\n",
        "    # Extract numerical values using regex\n",
        "    scores_dict = {}\n",
        "    pattern = r\"([DMICA]):\\s*([\\d\\.]+)\"\n",
        "    matches = re.findall(pattern, response.text)\n",
        "\n",
        "    for key, value in matches:\n",
        "        try:\n",
        "            scores_dict[key] = float(value)  # Convert to float safely\n",
        "        except ValueError:\n",
        "            scores_dict[key] = 0.5  # Default to 0.5 if parsing fails\n",
        "\n",
        "    return scores_dict if len(scores_dict) == 5 else None  # Ensure all values exist\n",
        "\n",
        "# Function to calculate hallucination probability\n",
        "def calculate_hallucination(prompt):\n",
        "    global weights  # Declare global to modify weights\n",
        "    scores = analyze_prompt(prompt)\n",
        "\n",
        "    if scores is None:\n",
        "        return \"Error: No valid response from Gemini\"\n",
        "\n",
        "    H = (weights[\"D\"] * scores[\"D\"] +\n",
        "         weights[\"M\"] * scores[\"M\"] +\n",
        "         weights[\"I\"] * scores[\"I\"] +\n",
        "         weights[\"A\"] * scores[\"A\"] +\n",
        "         weights[\"C\"] * scores[\"C\"])\n",
        "\n",
        "    H = max(0, min(H, 1))  # Keep H within 0-1 range\n",
        "    return H * 100  # Convert to percentage\n",
        "\n",
        "\n",
        "# Example usage\n",
        "prompt = input(\"Please neter the prompt you want to test: \")\n",
        "hallucination_probability = calculate_hallucination(prompt)\n",
        "\n",
        "# Check if the function returned an error message\n",
        "if isinstance(hallucination_probability, str):\n",
        "    print(hallucination_probability)  # Print the error message directly\n",
        "else:\n",
        "    print(f\"Hallucination Probability: {hallucination_probability:.2f}%\")\n"
      ]
    }
  ],
  "metadata": {
    "colab": {
      "provenance": [],
      "authorship_tag": "ABX9TyPL6oPNNdGrG5bE78577w01",
      "include_colab_link": true
    },
    "kernelspec": {
      "display_name": "Python 3",
      "name": "python3"
    },
    "language_info": {
      "name": "python"
    }
  },
  "nbformat": 4,
  "nbformat_minor": 0
}